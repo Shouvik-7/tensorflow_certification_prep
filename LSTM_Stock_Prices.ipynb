{
  "nbformat": 4,
  "nbformat_minor": 0,
  "metadata": {
    "colab": {
      "provenance": [],
      "gpuType": "T4"
    },
    "kernelspec": {
      "name": "python3",
      "display_name": "Python 3"
    },
    "language_info": {
      "name": "python"
    },
    "accelerator": "GPU"
  },
  "cells": [
    {
      "cell_type": "markdown",
      "source": [
        "Tensorflow type code"
      ],
      "metadata": {
        "id": "0XdnIrbYJCi4"
      }
    },
    {
      "cell_type": "code",
      "source": [
        "# importing the yfinance package\n",
        "import yfinance as yf\n",
        "\n",
        "# giving the start and end dates\n",
        "startDate = '2015-03-01'\n",
        "endDate = '2017-03-01'\n",
        "\n",
        "# setting the ticker value\n",
        "ticker = 'AAPL'\n",
        "\n",
        "# downloading the data of the ticker value between\n",
        "# the start and end dates\n",
        "resultData = yf.download(ticker)\n",
        "\n",
        "# printing the last 5 rows of the data\n",
        "print(resultData.tail())"
      ],
      "metadata": {
        "colab": {
          "base_uri": "https://localhost:8080/"
        },
        "id": "pVUYjKoOJQB8",
        "outputId": "dde5257e-bbde-4d43-96e5-f4584405863a"
      },
      "execution_count": 1,
      "outputs": [
        {
          "output_type": "stream",
          "name": "stdout",
          "text": [
            "\r[*********************100%***********************]  1 of 1 completed\n",
            "                  Open        High         Low       Close   Adj Close  \\\n",
            "Date                                                                     \n",
            "2023-07-13  190.500000  191.190002  189.779999  190.539993  190.539993   \n",
            "2023-07-14  190.229996  191.179993  189.630005  190.690002  190.690002   \n",
            "2023-07-17  191.899994  194.320007  191.809998  193.990005  193.990005   \n",
            "2023-07-18  193.350006  194.330002  192.419998  193.729996  193.729996   \n",
            "2023-07-19  193.100006  198.220001  192.649994  195.300003  195.300003   \n",
            "\n",
            "              Volume  \n",
            "Date                  \n",
            "2023-07-13  41342300  \n",
            "2023-07-14  41573900  \n",
            "2023-07-17  50520200  \n",
            "2023-07-18  48288200  \n",
            "2023-07-19  47588648  \n"
          ]
        }
      ]
    },
    {
      "cell_type": "code",
      "source": [
        "def plot_series(x, y, format=\"-\", start=0, end=None,\n",
        "                title=None, xlabel=None, ylabel=None, legend=None ):\n",
        "    \"\"\"\n",
        "    Visualizes time series data\n",
        "\n",
        "    Args:\n",
        "      x (array of int) - contains values for the x-axis\n",
        "      y (array of int or tuple of arrays) - contains the values for the y-axis\n",
        "      format (string) - line style when plotting the graph\n",
        "      label (string) - tag for the line\n",
        "      start (int) - first time step to plot\n",
        "      end (int) - last time step to plot\n",
        "      title (string) - title of the plot\n",
        "      xlabel (string) - label for the x-axis\n",
        "      ylabel (string) - label for the y-axis\n",
        "      legend (list of strings) - legend for the plot\n",
        "    \"\"\"\n",
        "\n",
        "    # Setup dimensions of the graph figure\n",
        "    plt.figure(figsize=(10, 6))\n",
        "\n",
        "    # Check if there are more than two series to plot\n",
        "    if type(y) is tuple:\n",
        "\n",
        "      # Loop over the y elements\n",
        "      for y_curr in y:\n",
        "\n",
        "        # Plot the x and current y values\n",
        "        plt.plot(x[start:end], y_curr[start:end], format)\n",
        "\n",
        "    else:\n",
        "      # Plot the x and y values\n",
        "      plt.plot(x[start:end], y[start:end], format)\n",
        "\n",
        "    # Label the x-axis\n",
        "    plt.xlabel(xlabel)\n",
        "\n",
        "    # Label the y-axis\n",
        "    plt.ylabel(ylabel)\n",
        "\n",
        "    # Set the legend\n",
        "    if legend:\n",
        "      plt.legend(legend)\n",
        "\n",
        "    # Set the title\n",
        "    plt.title(title)\n",
        "\n",
        "    # Overlay a grid on the graph\n",
        "    plt.grid(True)\n",
        "\n",
        "    # Draw the graph on screen\n",
        "    plt.show()"
      ],
      "metadata": {
        "id": "o4NWSNhzKABX"
      },
      "execution_count": 2,
      "outputs": []
    },
    {
      "cell_type": "code",
      "source": [
        "df = resultData['Close']"
      ],
      "metadata": {
        "id": "acbppyIoJe_t"
      },
      "execution_count": 3,
      "outputs": []
    },
    {
      "cell_type": "code",
      "source": [
        "df"
      ],
      "metadata": {
        "id": "mzX9D_M864zy",
        "colab": {
          "base_uri": "https://localhost:8080/"
        },
        "outputId": "6e730db6-4ce8-4211-b1ed-8e28e639e283"
      },
      "execution_count": null,
      "outputs": [
        {
          "output_type": "execute_result",
          "data": {
            "text/plain": [
              "Date\n",
              "1980-12-12      0.128348\n",
              "1980-12-15      0.121652\n",
              "1980-12-16      0.112723\n",
              "1980-12-17      0.115513\n",
              "1980-12-18      0.118862\n",
              "                 ...    \n",
              "2023-07-10    188.610001\n",
              "2023-07-11    188.080002\n",
              "2023-07-12    189.770004\n",
              "2023-07-13    190.539993\n",
              "2023-07-14    190.690002\n",
              "Name: Close, Length: 10736, dtype: float64"
            ]
          },
          "metadata": {},
          "execution_count": 117
        }
      ]
    },
    {
      "cell_type": "code",
      "source": [
        "import numpy as np\n",
        "time = np.array(df.index)\n",
        "series = np.array(df)"
      ],
      "metadata": {
        "id": "7wAkbPlAJMmG"
      },
      "execution_count": null,
      "outputs": []
    },
    {
      "cell_type": "code",
      "source": [
        "plot_series(time, series, xlabel='Month', ylabel='Close')"
      ],
      "metadata": {
        "colab": {
          "base_uri": "https://localhost:8080/",
          "height": 477
        },
        "id": "G5gaeOnlJqTp",
        "outputId": "6345e962-da2c-4e7c-ffd6-6e69cdc6c05a"
      },
      "execution_count": null,
      "outputs": [
        {
          "output_type": "display_data",
          "data": {
            "text/plain": [
              "<Figure size 1000x600 with 1 Axes>"
            ],
            "image/png": "[encoded data removed]"
          },
          "metadata": {}
        }
      ]
    },
    {
      "cell_type": "code",
      "source": [
        "# Define the split time\n",
        "split_time = 3000\n",
        "\n",
        "# Get the train set\n",
        "time_train = time[:split_time]\n",
        "x_train = series[:split_time]\n",
        "\n",
        "# Get the validation set\n",
        "time_valid = time[split_time:]\n",
        "x_valid = series[split_time:]"
      ],
      "metadata": {
        "id": "j5vECvDQJ4iR"
      },
      "execution_count": null,
      "outputs": []
    },
    {
      "cell_type": "code",
      "source": [
        "\n",
        "def windowed_dataset(series, window_size, batch_size, shuffle_buffer):\n",
        "    \"\"\"Generates dataset windows\n",
        "\n",
        "    Args:\n",
        "      series (array of float) - contains the values of the time series\n",
        "      window_size (int) - the number of time steps to include in the feature\n",
        "      batch_size (int) - the batch size\n",
        "      shuffle_buffer(int) - buffer size to use for the shuffle method\n",
        "\n",
        "    Returns:\n",
        "      dataset (TF Dataset) - TF Dataset containing time windows\n",
        "    \"\"\"\n",
        "\n",
        "    # Generate a TF Dataset from the series values\n",
        "    dataset = tf.data.Dataset.from_tensor_slices(series)\n",
        "\n",
        "    # Window the data but only take those with the specified size\n",
        "    dataset = dataset.window(window_size + 1, shift=1, drop_remainder=True)\n",
        "\n",
        "    # Flatten the windows by putting its elements in a single batch\n",
        "    dataset = dataset.flat_map(lambda window: window.batch(window_size + 1))\n",
        "\n",
        "    # Create tuples with features and labels\n",
        "    dataset = dataset.map(lambda window: (window[:-1], window[-1]))\n",
        "\n",
        "    # Shuffle the windows\n",
        "    dataset = dataset.shuffle(shuffle_buffer)\n",
        "\n",
        "    # Create batches of windows\n",
        "    dataset = dataset.batch(batch_size).prefetch(1)\n",
        "\n",
        "    return dataset"
      ],
      "metadata": {
        "id": "tDD9w72yKHIT"
      },
      "execution_count": null,
      "outputs": []
    },
    {
      "cell_type": "code",
      "source": [
        "import tensorflow as tf\n",
        "# Parameters\n",
        "window_size = 30\n",
        "batch_size = 32\n",
        "shuffle_buffer_size = 1000\n",
        "\n",
        "# Generate the dataset windows\n",
        "train_set = windowed_dataset(x_train, window_size, batch_size, shuffle_buffer_size)"
      ],
      "metadata": {
        "id": "q1-K0EonKOPD"
      },
      "execution_count": null,
      "outputs": []
    },
    {
      "cell_type": "code",
      "source": [
        "# Build the model\n",
        "model = tf.keras.models.Sequential([\n",
        "  #tf.keras.layers.LSTM(64, return_sequences=True, input_shape=[window_size, 1]),\n",
        "  #tf.keras.layers.LSTM(64),\n",
        "  tf.keras.layers.Dense(30, activation=\"relu\", input_shape=[window_size, 1]),\n",
        "  tf.keras.layers.Dense(10, activation=\"relu\"),\n",
        "  tf.keras.layers.Dense(1),\n",
        "])\n",
        "\n",
        "# Print the model summary\n",
        "model.summary()"
      ],
      "metadata": {
        "colab": {
          "base_uri": "https://localhost:8080/"
        },
        "id": "rZ7bKgVTKP2b",
        "outputId": "f5422617-15e6-491e-eb71-d1a522d54686"
      },
      "execution_count": null,
      "outputs": [
        {
          "output_type": "stream",
          "name": "stdout",
          "text": [
            "Model: \"sequential_7\"\n",
            "_________________________________________________________________\n",
            " Layer (type)                Output Shape              Param #   \n",
            "=================================================================\n",
            " dense_21 (Dense)            (None, 30, 30)            60        \n",
            "                                                                 \n",
            " dense_22 (Dense)            (None, 30, 10)            310       \n",
            "                                                                 \n",
            " dense_23 (Dense)            (None, 30, 1)             11        \n",
            "                                                                 \n",
            "=================================================================\n",
            "Total params: 381\n",
            "Trainable params: 381\n",
            "Non-trainable params: 0\n",
            "_________________________________________________________________\n"
          ]
        }
      ]
    },
    {
      "cell_type": "code",
      "source": [
        "# Set the learning rate scheduler\n",
        "lr_schedule = tf.keras.callbacks.LearningRateScheduler(\n",
        "    lambda epoch: 1e-8 * 10**(epoch / 20))\n",
        "\n",
        "# Initialize the optimizer\n",
        "optimizer = tf.keras.optimizers.SGD(momentum=0.9)\n",
        "\n",
        "# Set the training parameters\n",
        "model.compile(loss=tf.keras.losses.Huber(), optimizer='nadam')\n",
        "\n",
        "# Train the model\n",
        "history = model.fit(train_set, epochs=100)"
      ],
      "metadata": {
        "colab": {
          "base_uri": "https://localhost:8080/"
        },
        "id": "7Mwg9hRpKViD",
        "outputId": "34d57d59-15d1-4cc0-837b-cdaa868a85f1"
      },
      "execution_count": null,
      "outputs": [
        {
          "output_type": "stream",
          "name": "stdout",
          "text": [
            "Epoch 1/100\n",
            "93/93 [==============================] - 3s 8ms/step - loss: 0.0088\n",
            "Epoch 2/100\n",
            "93/93 [==============================] - 1s 10ms/step - loss: 0.0093\n",
            "Epoch 3/100\n",
            "93/93 [==============================] - 1s 11ms/step - loss: 0.0097\n",
            "Epoch 4/100\n",
            "93/93 [==============================] - 1s 7ms/step - loss: 0.0096\n",
            "Epoch 5/100\n",
            "93/93 [==============================] - 1s 7ms/step - loss: 0.0097\n",
            "Epoch 6/100\n",
            "93/93 [==============================] - 1s 7ms/step - loss: 0.0099\n",
            "Epoch 7/100\n",
            "93/93 [==============================] - 1s 7ms/step - loss: 0.0098\n",
            "Epoch 8/100\n",
            "93/93 [==============================] - 1s 7ms/step - loss: 0.0099\n",
            "Epoch 9/100\n",
            "93/93 [==============================] - 1s 7ms/step - loss: 0.0100\n",
            "Epoch 10/100\n",
            "93/93 [==============================] - 1s 7ms/step - loss: 0.0098\n",
            "Epoch 11/100\n",
            "93/93 [==============================] - 1s 7ms/step - loss: 0.0102\n",
            "Epoch 12/100\n",
            "93/93 [==============================] - 1s 7ms/step - loss: 0.0101\n",
            "Epoch 13/100\n",
            "93/93 [==============================] - 1s 10ms/step - loss: 0.0100\n",
            "Epoch 14/100\n",
            "93/93 [==============================] - 1s 11ms/step - loss: 0.0102\n",
            "Epoch 15/100\n",
            "93/93 [==============================] - 1s 7ms/step - loss: 0.0102\n",
            "Epoch 16/100\n",
            "93/93 [==============================] - 1s 7ms/step - loss: 0.0104\n",
            "Epoch 17/100\n",
            "93/93 [==============================] - 1s 7ms/step - loss: 0.0102\n",
            "Epoch 18/100\n",
            "93/93 [==============================] - 1s 7ms/step - loss: 0.0103\n",
            "Epoch 19/100\n",
            "93/93 [==============================] - 1s 7ms/step - loss: 0.0103\n",
            "Epoch 20/100\n",
            "93/93 [==============================] - 1s 7ms/step - loss: 0.0103\n",
            "Epoch 21/100\n",
            "93/93 [==============================] - 1s 10ms/step - loss: 0.0101\n",
            "Epoch 22/100\n",
            "93/93 [==============================] - 1s 10ms/step - loss: 0.0105\n",
            "Epoch 23/100\n",
            "93/93 [==============================] - 1s 7ms/step - loss: 0.0103\n",
            "Epoch 24/100\n",
            "93/93 [==============================] - 1s 9ms/step - loss: 0.0102\n",
            "Epoch 25/100\n",
            "93/93 [==============================] - 1s 11ms/step - loss: 0.0103\n",
            "Epoch 26/100\n",
            "93/93 [==============================] - 1s 9ms/step - loss: 0.0102\n",
            "Epoch 27/100\n",
            "93/93 [==============================] - 1s 7ms/step - loss: 0.0102\n",
            "Epoch 28/100\n",
            "93/93 [==============================] - 1s 7ms/step - loss: 0.0103\n",
            "Epoch 29/100\n",
            "93/93 [==============================] - 1s 7ms/step - loss: 0.0102\n",
            "Epoch 30/100\n",
            "93/93 [==============================] - 1s 6ms/step - loss: 0.0103\n",
            "Epoch 31/100\n",
            "93/93 [==============================] - 1s 7ms/step - loss: 0.0103\n",
            "Epoch 32/100\n",
            "93/93 [==============================] - 1s 7ms/step - loss: 0.0102\n",
            "Epoch 33/100\n",
            "93/93 [==============================] - 1s 7ms/step - loss: 0.0102\n",
            "Epoch 34/100\n",
            "93/93 [==============================] - 1s 7ms/step - loss: 0.0096\n",
            "Epoch 35/100\n",
            "93/93 [==============================] - 1s 7ms/step - loss: 0.0095\n",
            "Epoch 36/100\n",
            "93/93 [==============================] - 1s 7ms/step - loss: 0.0102\n",
            "Epoch 37/100\n",
            "93/93 [==============================] - 1s 11ms/step - loss: 0.0101\n",
            "Epoch 38/100\n",
            "93/93 [==============================] - 1s 11ms/step - loss: 0.0101\n",
            "Epoch 39/100\n",
            "93/93 [==============================] - 1s 7ms/step - loss: 0.0101\n",
            "Epoch 40/100\n",
            "93/93 [==============================] - 1s 7ms/step - loss: 0.0100\n",
            "Epoch 41/100\n",
            "93/93 [==============================] - 1s 7ms/step - loss: 0.0099\n",
            "Epoch 42/100\n",
            "93/93 [==============================] - 1s 7ms/step - loss: 0.0101\n",
            "Epoch 43/100\n",
            "93/93 [==============================] - 1s 7ms/step - loss: 0.0099\n",
            "Epoch 44/100\n",
            "93/93 [==============================] - 1s 7ms/step - loss: 0.0100\n",
            "Epoch 45/100\n",
            "93/93 [==============================] - 1s 7ms/step - loss: 0.0102\n",
            "Epoch 46/100\n",
            "93/93 [==============================] - 1s 7ms/step - loss: 0.0099\n",
            "Epoch 47/100\n",
            "93/93 [==============================] - 1s 7ms/step - loss: 0.0101\n",
            "Epoch 48/100\n",
            "93/93 [==============================] - 1s 7ms/step - loss: 0.0101\n",
            "Epoch 49/100\n",
            "93/93 [==============================] - 1s 7ms/step - loss: 0.0103\n",
            "Epoch 50/100\n",
            "93/93 [==============================] - 1s 9ms/step - loss: 0.0100\n",
            "Epoch 51/100\n",
            "93/93 [==============================] - 1s 11ms/step - loss: 0.0101\n",
            "Epoch 52/100\n",
            "93/93 [==============================] - 1s 10ms/step - loss: 0.0100\n",
            "Epoch 53/100\n",
            "93/93 [==============================] - 1s 7ms/step - loss: 0.0100\n",
            "Epoch 54/100\n",
            "93/93 [==============================] - 1s 7ms/step - loss: 0.0101\n",
            "Epoch 55/100\n",
            "93/93 [==============================] - 1s 7ms/step - loss: 0.0101\n",
            "Epoch 56/100\n",
            "93/93 [==============================] - 1s 7ms/step - loss: 0.0101\n",
            "Epoch 57/100\n",
            "93/93 [==============================] - 1s 7ms/step - loss: 0.0102\n",
            "Epoch 58/100\n",
            "93/93 [==============================] - 1s 7ms/step - loss: 0.0099\n",
            "Epoch 59/100\n",
            "93/93 [==============================] - 1s 7ms/step - loss: 0.0102\n",
            "Epoch 60/100\n",
            "93/93 [==============================] - 1s 7ms/step - loss: 0.0101\n",
            "Epoch 61/100\n",
            "93/93 [==============================] - 1s 7ms/step - loss: 0.0100\n",
            "Epoch 62/100\n",
            "93/93 [==============================] - 1s 7ms/step - loss: 0.0102\n",
            "Epoch 63/100\n",
            "93/93 [==============================] - 1s 11ms/step - loss: 0.0100\n",
            "Epoch 64/100\n",
            "93/93 [==============================] - 1s 11ms/step - loss: 0.0100\n",
            "Epoch 65/100\n",
            "93/93 [==============================] - 1s 7ms/step - loss: 0.0101\n",
            "Epoch 66/100\n",
            "93/93 [==============================] - 1s 7ms/step - loss: 0.0100\n",
            "Epoch 67/100\n",
            "93/93 [==============================] - 1s 7ms/step - loss: 0.0100\n",
            "Epoch 68/100\n",
            "93/93 [==============================] - 1s 7ms/step - loss: 0.0101\n",
            "Epoch 69/100\n",
            "93/93 [==============================] - 1s 7ms/step - loss: 0.0102\n",
            "Epoch 70/100\n",
            "93/93 [==============================] - 1s 7ms/step - loss: 0.0100\n",
            "Epoch 71/100\n",
            "93/93 [==============================] - 1s 7ms/step - loss: 0.0102\n",
            "Epoch 72/100\n",
            "93/93 [==============================] - 1s 7ms/step - loss: 0.0101\n",
            "Epoch 73/100\n",
            "93/93 [==============================] - 1s 7ms/step - loss: 0.0101\n",
            "Epoch 74/100\n",
            "93/93 [==============================] - 1s 7ms/step - loss: 0.0101\n",
            "Epoch 75/100\n",
            "93/93 [==============================] - 1s 8ms/step - loss: 0.0100\n",
            "Epoch 76/100\n",
            "93/93 [==============================] - 1s 10ms/step - loss: 0.0103\n",
            "Epoch 77/100\n",
            "93/93 [==============================] - 1s 7ms/step - loss: 0.0100\n",
            "Epoch 78/100\n",
            "93/93 [==============================] - 1s 7ms/step - loss: 0.0101\n",
            "Epoch 79/100\n",
            "93/93 [==============================] - 1s 7ms/step - loss: 0.0101\n",
            "Epoch 80/100\n",
            "93/93 [==============================] - 1s 7ms/step - loss: 0.0100\n",
            "Epoch 81/100\n",
            "93/93 [==============================] - 1s 7ms/step - loss: 0.0103\n",
            "Epoch 82/100\n",
            "93/93 [==============================] - 1s 7ms/step - loss: 0.0095\n",
            "Epoch 83/100\n",
            "93/93 [==============================] - 1s 7ms/step - loss: 0.0104\n",
            "Epoch 84/100\n",
            "93/93 [==============================] - 1s 7ms/step - loss: 0.0102\n",
            "Epoch 85/100\n",
            "93/93 [==============================] - 1s 7ms/step - loss: 0.0101\n",
            "Epoch 86/100\n",
            "93/93 [==============================] - 1s 7ms/step - loss: 0.0100\n",
            "Epoch 87/100\n",
            "93/93 [==============================] - 1s 11ms/step - loss: 0.0101\n",
            "Epoch 88/100\n",
            "93/93 [==============================] - 1s 10ms/step - loss: 0.0100\n",
            "Epoch 89/100\n",
            "93/93 [==============================] - 1s 7ms/step - loss: 0.0103\n",
            "Epoch 90/100\n",
            "93/93 [==============================] - 1s 7ms/step - loss: 0.0100\n",
            "Epoch 91/100\n",
            "93/93 [==============================] - 1s 7ms/step - loss: 0.0102\n",
            "Epoch 92/100\n",
            "93/93 [==============================] - 1s 7ms/step - loss: 0.0101\n",
            "Epoch 93/100\n",
            "93/93 [==============================] - 1s 7ms/step - loss: 0.0101\n",
            "Epoch 94/100\n",
            "93/93 [==============================] - 1s 7ms/step - loss: 0.0100\n",
            "Epoch 95/100\n",
            "93/93 [==============================] - 1s 7ms/step - loss: 0.0102\n",
            "Epoch 96/100\n",
            "93/93 [==============================] - 1s 7ms/step - loss: 0.0101\n",
            "Epoch 97/100\n",
            "93/93 [==============================] - 1s 7ms/step - loss: 0.0100\n",
            "Epoch 98/100\n",
            "93/93 [==============================] - 1s 7ms/step - loss: 0.0103\n",
            "Epoch 99/100\n",
            "93/93 [==============================] - 1s 7ms/step - loss: 0.0100\n",
            "Epoch 100/100\n",
            "93/93 [==============================] - 1s 10ms/step - loss: 0.0102\n"
          ]
        }
      ]
    },
    {
      "cell_type": "code",
      "source": [
        "def model_forecast(model, series, window_size, batch_size):\n",
        "    \"\"\"Uses an input model to generate predictions on data windows\n",
        "\n",
        "    Args:\n",
        "      model (TF Keras Model) - model that accepts data windows\n",
        "      series (array of float) - contains the values of the time series\n",
        "      window_size (int) - the number of time steps to include in the window\n",
        "      batch_size (int) - the batch size\n",
        "\n",
        "    Returns:\n",
        "      forecast (numpy array) - array containing predictions\n",
        "    \"\"\"\n",
        "\n",
        "    # Generate a TF Dataset from the series values\n",
        "    dataset = tf.data.Dataset.from_tensor_slices(series)\n",
        "\n",
        "    # Window the data but only take those with the specified size\n",
        "    dataset = dataset.window(window_size, shift=1, drop_remainder=True)\n",
        "\n",
        "    # Flatten the windows by putting its elements in a single batch\n",
        "    dataset = dataset.flat_map(lambda w: w.batch(window_size))\n",
        "\n",
        "    # Create batches of windows\n",
        "    dataset = dataset.batch(batch_size).prefetch(1)\n",
        "\n",
        "    # Get predictions on the entire dataset\n",
        "    forecast = model.predict(dataset)\n",
        "\n",
        "    return forecast\n",
        "\n",
        "\n",
        "# Reduce the original series\n",
        "forecast_series = series[split_time-window_size:-1]\n",
        "\n",
        "# Use helper function to generate predictions\n",
        "forecast = model_forecast(model, forecast_series, window_size, batch_size)\n",
        "\n",
        "# Drop single dimensional axis\n",
        "results = forecast.squeeze()\n",
        "\n",
        "# Plot the results\n",
        "plot_series(time_valid, (x_valid, results))\n",
        "\n",
        "# Compute the MAE\n",
        "print(tf.keras.metrics.mean_absolute_error(x_valid, results).numpy())"
      ],
      "metadata": {
        "colab": {
          "base_uri": "https://localhost:8080/"
        },
        "id": "CbM-V4d5Klpx",
        "outputId": "8d7d71b0-f8d2-46af-c888-1525cf8af6aa"
      },
      "execution_count": null,
      "outputs": [
        {
          "output_type": "stream",
          "name": "stdout",
          "text": [
            "242/242 [==============================] - 2s 8ms/step\n"
          ]
        },
        {
          "output_type": "display_data",
          "data": {
            "text/plain": [
              "<Figure size 1000x600 with 1 Axes>"
            ],
            "image/png": "[encoded data removed]"
          },
          "metadata": {}
        },
        {
          "output_type": "error",
          "ename": "InvalidArgumentError",
          "evalue": "ignored",
          "traceback": [
            "\u001b[0;31m---------------------------------------------------------------------------\u001b[0m",
            "\u001b[0;31mInvalidArgumentError\u001b[0m                      Traceback (most recent call last)",
            "\u001b[0;32m<ipython-input-153-8be8b21eac3d>\u001b[0m in \u001b[0;36m<cell line: 45>\u001b[0;34m()\u001b[0m\n\u001b[1;32m     43\u001b[0m \u001b[0;34m\u001b[0m\u001b[0m\n\u001b[1;32m     44\u001b[0m \u001b[0;31m# Compute the MAE\u001b[0m\u001b[0;34m\u001b[0m\u001b[0;34m\u001b[0m\u001b[0m\n\u001b[0;32m---> 45\u001b[0;31m \u001b[0mprint\u001b[0m\u001b[0;34m(\u001b[0m\u001b[0mtf\u001b[0m\u001b[0;34m.\u001b[0m\u001b[0mkeras\u001b[0m\u001b[0;34m.\u001b[0m\u001b[0mmetrics\u001b[0m\u001b[0;34m.\u001b[0m\u001b[0mmean_absolute_error\u001b[0m\u001b[0;34m(\u001b[0m\u001b[0mx_valid\u001b[0m\u001b[0;34m,\u001b[0m \u001b[0mresults\u001b[0m\u001b[0;34m)\u001b[0m\u001b[0;34m.\u001b[0m\u001b[0mnumpy\u001b[0m\u001b[0;34m(\u001b[0m\u001b[0;34m)\u001b[0m\u001b[0;34m)\u001b[0m\u001b[0;34m\u001b[0m\u001b[0;34m\u001b[0m\u001b[0m\n\u001b[0m",
            "\u001b[0;32m/usr/local/lib/python3.10/dist-packages/tensorflow/python/util/traceback_utils.py\u001b[0m in \u001b[0;36merror_handler\u001b[0;34m(*args, **kwargs)\u001b[0m\n\u001b[1;32m    151\u001b[0m     \u001b[0;32mexcept\u001b[0m \u001b[0mException\u001b[0m \u001b[0;32mas\u001b[0m \u001b[0me\u001b[0m\u001b[0;34m:\u001b[0m\u001b[0;34m\u001b[0m\u001b[0;34m\u001b[0m\u001b[0m\n\u001b[1;32m    152\u001b[0m       \u001b[0mfiltered_tb\u001b[0m \u001b[0;34m=\u001b[0m \u001b[0m_process_traceback_frames\u001b[0m\u001b[0;34m(\u001b[0m\u001b[0me\u001b[0m\u001b[0;34m.\u001b[0m\u001b[0m__traceback__\u001b[0m\u001b[0;34m)\u001b[0m\u001b[0;34m\u001b[0m\u001b[0;34m\u001b[0m\u001b[0m\n\u001b[0;32m--> 153\u001b[0;31m       \u001b[0;32mraise\u001b[0m \u001b[0me\u001b[0m\u001b[0;34m.\u001b[0m\u001b[0mwith_traceback\u001b[0m\u001b[0;34m(\u001b[0m\u001b[0mfiltered_tb\u001b[0m\u001b[0;34m)\u001b[0m \u001b[0;32mfrom\u001b[0m \u001b[0;32mNone\u001b[0m\u001b[0;34m\u001b[0m\u001b[0;34m\u001b[0m\u001b[0m\n\u001b[0m\u001b[1;32m    154\u001b[0m     \u001b[0;32mfinally\u001b[0m\u001b[0;34m:\u001b[0m\u001b[0;34m\u001b[0m\u001b[0;34m\u001b[0m\u001b[0m\n\u001b[1;32m    155\u001b[0m       \u001b[0;32mdel\u001b[0m \u001b[0mfiltered_tb\u001b[0m\u001b[0;34m\u001b[0m\u001b[0;34m\u001b[0m\u001b[0m\n",
            "\u001b[0;32m/usr/local/lib/python3.10/dist-packages/keras/losses.py\u001b[0m in \u001b[0;36mmean_absolute_error\u001b[0;34m(y_true, y_pred)\u001b[0m\n\u001b[1;32m   1609\u001b[0m     \u001b[0my_pred\u001b[0m \u001b[0;34m=\u001b[0m \u001b[0mtf\u001b[0m\u001b[0;34m.\u001b[0m\u001b[0mconvert_to_tensor\u001b[0m\u001b[0;34m(\u001b[0m\u001b[0my_pred\u001b[0m\u001b[0;34m)\u001b[0m\u001b[0;34m\u001b[0m\u001b[0;34m\u001b[0m\u001b[0m\n\u001b[1;32m   1610\u001b[0m     \u001b[0my_true\u001b[0m \u001b[0;34m=\u001b[0m \u001b[0mtf\u001b[0m\u001b[0;34m.\u001b[0m\u001b[0mcast\u001b[0m\u001b[0;34m(\u001b[0m\u001b[0my_true\u001b[0m\u001b[0;34m,\u001b[0m \u001b[0my_pred\u001b[0m\u001b[0;34m.\u001b[0m\u001b[0mdtype\u001b[0m\u001b[0;34m)\u001b[0m\u001b[0;34m\u001b[0m\u001b[0;34m\u001b[0m\u001b[0m\n\u001b[0;32m-> 1611\u001b[0;31m     \u001b[0;32mreturn\u001b[0m \u001b[0mbackend\u001b[0m\u001b[0;34m.\u001b[0m\u001b[0mmean\u001b[0m\u001b[0;34m(\u001b[0m\u001b[0mtf\u001b[0m\u001b[0;34m.\u001b[0m\u001b[0mabs\u001b[0m\u001b[0;34m(\u001b[0m\u001b[0my_pred\u001b[0m \u001b[0;34m-\u001b[0m \u001b[0my_true\u001b[0m\u001b[0;34m)\u001b[0m\u001b[0;34m,\u001b[0m \u001b[0maxis\u001b[0m\u001b[0;34m=\u001b[0m\u001b[0;34m-\u001b[0m\u001b[0;36m1\u001b[0m\u001b[0;34m)\u001b[0m\u001b[0;34m\u001b[0m\u001b[0;34m\u001b[0m\u001b[0m\n\u001b[0m\u001b[1;32m   1612\u001b[0m \u001b[0;34m\u001b[0m\u001b[0m\n\u001b[1;32m   1613\u001b[0m \u001b[0;34m\u001b[0m\u001b[0m\n",
            "\u001b[0;31mInvalidArgumentError\u001b[0m: {{function_node __wrapped__Sub_device_/job:localhost/replica:0/task:0/device:GPU:0}} required broadcastable shapes [Op:Sub]"
          ]
        }
      ]
    },
    {
      "cell_type": "code",
      "source": [
        "x_valid[0]"
      ],
      "metadata": {
        "colab": {
          "base_uri": "https://localhost:8080/"
        },
        "id": "td6VOvcVel-p",
        "outputId": "3d27b7ea-3964-449c-9af0-4a2c74655f23"
      },
      "execution_count": null,
      "outputs": [
        {
          "output_type": "execute_result",
          "data": {
            "text/plain": [
              "0.43526801466941833"
            ]
          },
          "metadata": {},
          "execution_count": 135
        }
      ]
    },
    {
      "cell_type": "code",
      "source": [
        "results[0]/x_valid[0]"
      ],
      "metadata": {
        "colab": {
          "base_uri": "https://localhost:8080/"
        },
        "id": "Tri4YR6ieoxC",
        "outputId": "32c091d7-336a-4e00-dd48-03d1ef8f657b"
      },
      "execution_count": null,
      "outputs": [
        {
          "output_type": "execute_result",
          "data": {
            "text/plain": [
              "-521.0962106503238"
            ]
          },
          "metadata": {},
          "execution_count": 140
        }
      ]
    },
    {
      "cell_type": "markdown",
      "source": [
        "## Real forecasting"
      ],
      "metadata": {
        "id": "2DaJzVvURAGq"
      }
    },
    {
      "cell_type": "code",
      "source": [
        "forecast_series = series[split_time-window_size:split_time]\n",
        "\n",
        "i = 0\n",
        "res = []\n",
        "while i<30:\n",
        "  forecast = model_forecast(model, forecast_series, window_size, batch_size)\n",
        "  res.append(forecast[0].item())\n",
        "  forecast_series = forecast_series[1:]\n",
        "  forecast_series = np.append(forecast_series,forecast[0])\n",
        "  i = i+1\n",
        "res"
      ],
      "metadata": {
        "colab": {
          "base_uri": "https://localhost:8080/"
        },
        "id": "x964cS57LCS_",
        "outputId": "655bc9a5-2e75-4d7d-aa57-93a1e9ba3e22"
      },
      "execution_count": null,
      "outputs": [
        {
          "output_type": "stream",
          "name": "stdout",
          "text": [
            "1/1 [==============================] - 0s 67ms/step\n",
            "1/1 [==============================] - 0s 110ms/step\n",
            "1/1 [==============================] - 0s 98ms/step\n",
            "1/1 [==============================] - 0s 99ms/step\n",
            "1/1 [==============================] - 0s 99ms/step\n",
            "1/1 [==============================] - 0s 145ms/step\n",
            "1/1 [==============================] - 0s 158ms/step\n",
            "1/1 [==============================] - 0s 176ms/step\n",
            "1/1 [==============================] - 0s 196ms/step\n",
            "1/1 [==============================] - 0s 144ms/step\n",
            "1/1 [==============================] - 0s 166ms/step\n",
            "1/1 [==============================] - 0s 153ms/step\n",
            "1/1 [==============================] - 0s 114ms/step\n",
            "1/1 [==============================] - 0s 53ms/step\n",
            "1/1 [==============================] - 0s 67ms/step\n",
            "1/1 [==============================] - 0s 70ms/step\n",
            "1/1 [==============================] - 0s 67ms/step\n",
            "1/1 [==============================] - 0s 71ms/step\n",
            "1/1 [==============================] - 0s 65ms/step\n",
            "1/1 [==============================] - 0s 72ms/step\n",
            "1/1 [==============================] - 0s 43ms/step\n",
            "1/1 [==============================] - 0s 46ms/step\n",
            "1/1 [==============================] - 0s 45ms/step\n",
            "1/1 [==============================] - 0s 47ms/step\n",
            "1/1 [==============================] - 0s 50ms/step\n",
            "1/1 [==============================] - 0s 46ms/step\n",
            "1/1 [==============================] - 0s 52ms/step\n",
            "1/1 [==============================] - 0s 46ms/step\n",
            "1/1 [==============================] - 0s 52ms/step\n",
            "1/1 [==============================] - 0s 54ms/step\n"
          ]
        },
        {
          "output_type": "execute_result",
          "data": {
            "text/plain": [
              "[0.4036252200603485,\n",
              " 0.4022899568080902,\n",
              " 0.411432147026062,\n",
              " 0.4171125590801239,\n",
              " 0.4189612865447998,\n",
              " 0.4023911654949188,\n",
              " 0.4003760516643524,\n",
              " 0.4013683795928955,\n",
              " 0.4038934111595154,\n",
              " 0.40147724747657776,\n",
              " 0.3913390040397644,\n",
              " 0.3901117146015167,\n",
              " 0.3912968337535858,\n",
              " 0.39370179176330566,\n",
              " 0.3802642524242401,\n",
              " 0.3789871633052826,\n",
              " 0.3862118124961853,\n",
              " 0.3810616135597229,\n",
              " 0.3886590600013733,\n",
              " 0.3879900276660919,\n",
              " 0.3931206166744232,\n",
              " 0.38807612657546997,\n",
              " 0.3843144178390503,\n",
              " 0.39177292585372925,\n",
              " 0.3940041959285736,\n",
              " 0.3862203359603882,\n",
              " 0.3738904893398285,\n",
              " 0.38114506006240845,\n",
              " 0.3848899304866791,\n",
              " 0.38639336824417114]"
            ]
          },
          "metadata": {},
          "execution_count": 102
        }
      ]
    },
    {
      "cell_type": "code",
      "source": [
        "\n",
        "\n",
        "plt.plot(time_train[-30:], x_train[-30:])\n",
        "plt.plot(time_valid[:30], res)\n",
        "plt.plot(time_valid[:30], x_valid[:30])\n",
        "plt.plot(time_valid[:30], res)\n",
        "plt.show()"
      ],
      "metadata": {
        "colab": {
          "base_uri": "https://localhost:8080/",
          "height": 430
        },
        "id": "t6hCMQu8Q8W0",
        "outputId": "39c5f160-40a4-4364-e3e6-9151362432f7"
      },
      "execution_count": null,
      "outputs": [
        {
          "output_type": "display_data",
          "data": {
            "text/plain": [
              "<Figure size 640x480 with 1 Axes>"
            ],
            "image/png": "[encoded data removed]"
          },
          "metadata": {}
        }
      ]
    },
    {
      "cell_type": "code",
      "source": [],
      "metadata": {
        "id": "RZ1UQmkzQ8Tq"
      },
      "execution_count": null,
      "outputs": []
    },
    {
      "cell_type": "code",
      "source": [],
      "metadata": {
        "id": "az1-XHwuQ8QI"
      },
      "execution_count": null,
      "outputs": []
    },
    {
      "cell_type": "code",
      "source": [],
      "metadata": {
        "id": "ymahwdCkQ8Ml"
      },
      "execution_count": null,
      "outputs": []
    },
    {
      "cell_type": "code",
      "source": [],
      "metadata": {
        "id": "fQyhKuxqQ8JN"
      },
      "execution_count": null,
      "outputs": []
    },
    {
      "cell_type": "code",
      "source": [],
      "metadata": {
        "id": "tYqyGvlTQ8F5"
      },
      "execution_count": null,
      "outputs": []
    },
    {
      "cell_type": "code",
      "source": [],
      "metadata": {
        "id": "ZjsziLOVQ8Cy"
      },
      "execution_count": null,
      "outputs": []
    },
    {
      "cell_type": "code",
      "source": [],
      "metadata": {
        "id": "UxJahOxTQ7_p"
      },
      "execution_count": null,
      "outputs": []
    },
    {
      "cell_type": "code",
      "source": [],
      "metadata": {
        "id": "5qTzPeZUQ78W"
      },
      "execution_count": null,
      "outputs": []
    },
    {
      "cell_type": "code",
      "source": [
        "forecast_series = series[split_time-window_size:split_time]\n",
        "forecast = model_forecast(model, forecast_series, window_size, batch_size)\n",
        "forecast = forecast.squeeze()"
      ],
      "metadata": {
        "colab": {
          "base_uri": "https://localhost:8080/"
        },
        "id": "oZhzNi5EMm77",
        "outputId": "907e440c-7d55-46c8-935b-6040ea52545f"
      },
      "execution_count": null,
      "outputs": [
        {
          "output_type": "stream",
          "name": "stdout",
          "text": [
            "1/1 [==============================] - 0s 201ms/step\n"
          ]
        }
      ]
    },
    {
      "cell_type": "code",
      "source": [
        "forecast_series.shape"
      ],
      "metadata": {
        "colab": {
          "base_uri": "https://localhost:8080/"
        },
        "id": "YqesuvZsPWJt",
        "outputId": "f33143a8-3e76-4f8c-967a-7f2cc4cddc22"
      },
      "execution_count": null,
      "outputs": [
        {
          "output_type": "execute_result",
          "data": {
            "text/plain": [
              "(30,)"
            ]
          },
          "metadata": {},
          "execution_count": 79
        }
      ]
    },
    {
      "cell_type": "code",
      "source": [
        "forecast_series"
      ],
      "metadata": {
        "colab": {
          "base_uri": "https://localhost:8080/"
        },
        "id": "xvoh-S5hPyAv",
        "outputId": "6a9ff37c-e6f7-4243-d395-2471d716dabc"
      },
      "execution_count": null,
      "outputs": [
        {
          "output_type": "execute_result",
          "data": {
            "text/plain": [
              "array([0.42522299, 0.441964  , 0.43080401, 0.41964301, 0.410714  ,\n",
              "       0.41517901, 0.41517901, 0.40848199, 0.42410699, 0.41294599,\n",
              "       0.40625   , 0.39955401, 0.40066999, 0.40290201, 0.395089  ,\n",
              "       0.390625  , 0.38839301, 0.39955401, 0.390625  , 0.38839301,\n",
              "       0.38727701, 0.39285699, 0.40513399, 0.410714  , 0.40625   ,\n",
              "       0.4375    , 0.4375    , 0.43861601, 0.433036  , 0.43526801])"
            ]
          },
          "metadata": {},
          "execution_count": 80
        }
      ]
    },
    {
      "cell_type": "code",
      "source": [
        "forecast_series = series[split_time-window_size:split_time]\n",
        "forecast_series = forecast_series[1:]\n",
        "forecast_series = np.append(forecast_series,1)\n",
        "print(forecast_series.shape)\n",
        "forecast_series\n",
        "print(forecast_series.shape)"
      ],
      "metadata": {
        "colab": {
          "base_uri": "https://localhost:8080/"
        },
        "id": "LAGQ5WGWQDI5",
        "outputId": "104e4e7c-58ad-4f74-9f9f-35f29a97883a"
      },
      "execution_count": null,
      "outputs": [
        {
          "output_type": "stream",
          "name": "stdout",
          "text": [
            "(30,)\n",
            "(30,)\n"
          ]
        }
      ]
    },
    {
      "cell_type": "code",
      "source": [
        "print(np.append(forecast_series,1))"
      ],
      "metadata": {
        "colab": {
          "base_uri": "https://localhost:8080/"
        },
        "id": "wE8iKIlOQIM5",
        "outputId": "8537237f-9f19-40e7-9c4d-235e65cdb814"
      },
      "execution_count": null,
      "outputs": [
        {
          "output_type": "stream",
          "name": "stdout",
          "text": [
            "[0.441964   0.43080401 0.41964301 0.410714   0.41517901 0.41517901\n",
            " 0.40848199 0.42410699 0.41294599 0.40625    0.39955401 0.40066999\n",
            " 0.40290201 0.395089   0.390625   0.38839301 0.39955401 0.390625\n",
            " 0.38839301 0.38727701 0.39285699 0.40513399 0.410714   0.40625\n",
            " 0.4375     0.4375     0.43861601 0.433036   0.43526801 1.        ]\n"
          ]
        }
      ]
    },
    {
      "cell_type": "code",
      "source": [],
      "metadata": {
        "id": "2SrbQoeGQkHS"
      },
      "execution_count": null,
      "outputs": []
    },
    {
      "cell_type": "code",
      "source": [],
      "metadata": {
        "id": "WkztXsuwjTlR"
      },
      "execution_count": null,
      "outputs": []
    },
    {
      "cell_type": "code",
      "source": [],
      "metadata": {
        "id": "AVsSyYlVjTh9"
      },
      "execution_count": null,
      "outputs": []
    },
    {
      "cell_type": "markdown",
      "source": [
        "Hands on ml"
      ],
      "metadata": {
        "id": "pPkPkQg3oIGd"
      }
    },
    {
      "cell_type": "code",
      "source": [
        "# importing the yfinance package\n",
        "import yfinance as yf\n",
        "import tensorflow as tf\n",
        "from tensorflow import keras\n",
        "import os\n",
        "from pathlib import Path\n",
        "%matplotlib inline\n",
        "import matplotlib as mpl\n",
        "import matplotlib.pyplot as plt\n",
        "# giving the start and end dates\n",
        "startDate = '2015-03-01'\n",
        "endDate = '2017-03-01'\n",
        "\n",
        "# setting the ticker value\n",
        "ticker = 'AAPL'\n",
        "\n",
        "# downloading the data of the ticker value between\n",
        "# the start and end dates\n",
        "resultData = yf.download(ticker)\n",
        "\n",
        "# printing the last 5 rows of the data\n",
        "print(resultData.tail())"
      ],
      "metadata": {
        "colab": {
          "base_uri": "https://localhost:8080/"
        },
        "id": "IhPWMqM9jTen",
        "outputId": "3124066e-f119-4676-a742-68375df0d079"
      },
      "execution_count": 1,
      "outputs": [
        {
          "output_type": "stream",
          "name": "stdout",
          "text": [
            "\r[*********************100%***********************]  1 of 1 completed\n",
            "                  Open        High         Low       Close   Adj Close  \\\n",
            "Date                                                                     \n",
            "2023-07-13  190.500000  191.190002  189.779999  190.539993  190.539993   \n",
            "2023-07-14  190.229996  191.179993  189.630005  190.690002  190.690002   \n",
            "2023-07-17  191.899994  194.320007  191.809998  193.990005  193.990005   \n",
            "2023-07-18  193.350006  194.330002  192.419998  193.729996  193.729996   \n",
            "2023-07-19  193.100006  198.220001  192.649994  195.100006  195.100006   \n",
            "\n",
            "              Volume  \n",
            "Date                  \n",
            "2023-07-13  41342300  \n",
            "2023-07-14  41573900  \n",
            "2023-07-17  50520200  \n",
            "2023-07-18  48353800  \n",
            "2023-07-19  76173882  \n"
          ]
        }
      ]
    },
    {
      "cell_type": "code",
      "source": [
        "def plot_series(series, y=None, y_pred=None, x_label=\"$t$\", y_label=\"$x(t)$\", legend=True):\n",
        "    plt.plot(series, \".-\")\n",
        "    if y is not None:\n",
        "        plt.plot(n_steps, y, \"bo\", label=\"Target\")\n",
        "    if y_pred is not None:\n",
        "        plt.plot(n_steps, y_pred, \"rx\", markersize=10, label=\"Prediction\")\n",
        "    plt.grid(True)\n",
        "    if x_label:\n",
        "        plt.xlabel(x_label, fontsize=16)\n",
        "    if y_label:\n",
        "        plt.ylabel(y_label, fontsize=16, rotation=0)\n",
        "    plt.hlines(0, 0, 100, linewidth=1)\n",
        "    plt.axis([0, n_steps + 1, -1, 1])\n",
        "    if legend and (y or y_pred):\n",
        "        plt.legend(fontsize=14, loc=\"upper left\")"
      ],
      "metadata": {
        "id": "S-Ov2rCVwaop"
      },
      "execution_count": 2,
      "outputs": []
    },
    {
      "cell_type": "code",
      "source": [
        "df = resultData['Close']\n",
        "df2 = df.reset_index()['Close']"
      ],
      "metadata": {
        "id": "ygLkGrRwjTbe"
      },
      "execution_count": 3,
      "outputs": []
    },
    {
      "cell_type": "code",
      "source": [
        "plt.plot(df2)\n",
        "plt.show()"
      ],
      "metadata": {
        "colab": {
          "base_uri": "https://localhost:8080/",
          "height": 430
        },
        "id": "UnP_oXOxjTYV",
        "outputId": "50331d7d-f6fc-4174-831a-b20d8bd7d4e5"
      },
      "execution_count": 4,
      "outputs": [
        {
          "output_type": "display_data",
          "data": {
            "text/plain": [
              "<Figure size 640x480 with 1 Axes>"
            ],
            "image/png": "[encoded data removed]"
          },
          "metadata": {}
        }
      ]
    },
    {
      "cell_type": "code",
      "source": [
        "from sklearn.preprocessing import MinMaxScaler\n",
        "import numpy as np\n",
        "scaler = MinMaxScaler(feature_range=(0,1))\n",
        "df2 = scaler.fit_transform(np.array(df2).reshape(-1,1))"
      ],
      "metadata": {
        "id": "zn8cgkbqjTVA"
      },
      "execution_count": 5,
      "outputs": []
    },
    {
      "cell_type": "code",
      "source": [
        "df2"
      ],
      "metadata": {
        "colab": {
          "base_uri": "https://localhost:8080/"
        },
        "id": "HdkXANHMlJXJ",
        "outputId": "6d19f38c-fc4e-4c86-a2e6-728aa236cee0"
      },
      "execution_count": 6,
      "outputs": [
        {
          "output_type": "execute_result",
          "data": {
            "text/plain": [
              "array([[4.06258023e-04],\n",
              "       [3.71928557e-04],\n",
              "       [3.26150766e-04],\n",
              "       ...,\n",
              "       [9.94309175e-01],\n",
              "       [9.92976139e-01],\n",
              "       [1.00000000e+00]])"
            ]
          },
          "metadata": {},
          "execution_count": 6
        }
      ]
    },
    {
      "cell_type": "code",
      "source": [
        "training_size = int(len(df2)*0.65)\n",
        "test_size = len(df2) - training_size\n",
        "train_data, test_data = df2[:training_size, :], df2[training_size:,:1]"
      ],
      "metadata": {
        "id": "-8ug-rWjnvdd"
      },
      "execution_count": 7,
      "outputs": []
    },
    {
      "cell_type": "code",
      "source": [
        "def create_dataset(dataset, time_step = 1):\n",
        "  dataX, dataY = [], []\n",
        "  for i in range(len(dataset)-time_step-1):\n",
        "    a = dataset[i:(i+time_step),0]\n",
        "    dataX.append(a)\n",
        "    dataY.append(dataset[i + time_step,0])\n",
        "  return np.array(dataX), np.array(dataY)"
      ],
      "metadata": {
        "id": "eU71Pe-pjTRd"
      },
      "execution_count": 8,
      "outputs": []
    },
    {
      "cell_type": "code",
      "source": [
        "n_steps = 100\n",
        "time_step = 100\n",
        "X_train, y_train = create_dataset(train_data, n_steps)\n",
        "X_test, y_test = create_dataset(test_data, n_steps)"
      ],
      "metadata": {
        "id": "qbkGQEPGjTOD"
      },
      "execution_count": 9,
      "outputs": []
    },
    {
      "cell_type": "code",
      "source": [
        "X_train = X_train.reshape(X_train.shape[0], X_train.shape[1],1)\n",
        "X_test = X_test.reshape(X_test.shape[0], X_test.shape[1],1)"
      ],
      "metadata": {
        "id": "Dg5Vf33ZjTKe"
      },
      "execution_count": 10,
      "outputs": []
    },
    {
      "cell_type": "code",
      "source": [
        "y_train = y_train.reshape(-1,1)\n",
        "y_test = y_test.reshape(-1,1)"
      ],
      "metadata": {
        "id": "6PCUjGeXwsF-"
      },
      "execution_count": 11,
      "outputs": []
    },
    {
      "cell_type": "markdown",
      "source": [
        "#Computing Some Baselines"
      ],
      "metadata": {
        "id": "QnI7LVP8qVmk"
      }
    },
    {
      "cell_type": "markdown",
      "source": [
        "naive prediction. Basically the forecast is the previous time step value"
      ],
      "metadata": {
        "id": "xceMuzzzqrjV"
      }
    },
    {
      "cell_type": "code",
      "source": [
        "y_pred = X_test[:,-1]\n",
        "np.mean(keras.losses.mean_squared_error(y_test, y_pred))"
      ],
      "metadata": {
        "colab": {
          "base_uri": "https://localhost:8080/"
        },
        "id": "a3mH4BdHoMZi",
        "outputId": "2d219aee-b7c4-4b77-b1d1-8923fd810317"
      },
      "execution_count": 13,
      "outputs": [
        {
          "output_type": "execute_result",
          "data": {
            "text/plain": [
              "5.099390764702942e-05"
            ]
          },
          "metadata": {},
          "execution_count": 13
        }
      ]
    },
    {
      "cell_type": "markdown",
      "source": [
        "Simple NN model"
      ],
      "metadata": {
        "id": "minEHIeKvqBl"
      }
    },
    {
      "cell_type": "code",
      "source": [
        "model = keras.models.Sequential([\n",
        "    keras.layers.Flatten(input_shape=[time_step,1]),\n",
        "    keras.layers.Dense(1)\n",
        "])\n",
        "\n",
        "model.compile(loss=\"mse\", optimizer=\"adam\")\n",
        "history = model.fit(X_train, y_train, epochs=20,\n",
        "                    validation_data=(X_test, y_test))"
      ],
      "metadata": {
        "colab": {
          "base_uri": "https://localhost:8080/"
        },
        "id": "6F08E2xKqoF0",
        "outputId": "a22154e3-4fa4-446d-dbc4-990aa5de74a8"
      },
      "execution_count": 14,
      "outputs": [
        {
          "output_type": "stream",
          "name": "stdout",
          "text": [
            "Epoch 1/20\n",
            "215/215 [==============================] - 6s 4ms/step - loss: 3.0029e-06 - val_loss: 7.2728e-04\n",
            "Epoch 2/20\n",
            "215/215 [==============================] - 1s 4ms/step - loss: 6.1674e-07 - val_loss: 6.0247e-04\n",
            "Epoch 3/20\n",
            "215/215 [==============================] - 1s 4ms/step - loss: 5.2519e-07 - val_loss: 5.9299e-04\n",
            "Epoch 4/20\n",
            "215/215 [==============================] - 1s 4ms/step - loss: 5.4357e-07 - val_loss: 4.8318e-04\n",
            "Epoch 5/20\n",
            "215/215 [==============================] - 1s 3ms/step - loss: 4.2559e-07 - val_loss: 4.0744e-04\n",
            "Epoch 6/20\n",
            "215/215 [==============================] - 1s 4ms/step - loss: 3.7806e-07 - val_loss: 6.2595e-04\n",
            "Epoch 7/20\n",
            "215/215 [==============================] - 1s 3ms/step - loss: 3.8277e-07 - val_loss: 4.8572e-04\n",
            "Epoch 8/20\n",
            "215/215 [==============================] - 1s 5ms/step - loss: 3.4689e-07 - val_loss: 5.2244e-04\n",
            "Epoch 9/20\n",
            "215/215 [==============================] - 1s 5ms/step - loss: 3.2235e-07 - val_loss: 6.4431e-04\n",
            "Epoch 10/20\n",
            "215/215 [==============================] - 1s 4ms/step - loss: 3.0467e-07 - val_loss: 4.4123e-04\n",
            "Epoch 11/20\n",
            "215/215 [==============================] - 1s 3ms/step - loss: 2.6344e-07 - val_loss: 2.6209e-04\n",
            "Epoch 12/20\n",
            "215/215 [==============================] - 1s 3ms/step - loss: 2.5384e-07 - val_loss: 2.6904e-04\n",
            "Epoch 13/20\n",
            "215/215 [==============================] - 1s 4ms/step - loss: 2.4514e-07 - val_loss: 2.7230e-04\n",
            "Epoch 14/20\n",
            "215/215 [==============================] - 1s 3ms/step - loss: 2.7301e-07 - val_loss: 3.5334e-04\n",
            "Epoch 15/20\n",
            "215/215 [==============================] - 1s 3ms/step - loss: 2.4524e-07 - val_loss: 2.7476e-04\n",
            "Epoch 16/20\n",
            "215/215 [==============================] - 1s 3ms/step - loss: 2.1050e-07 - val_loss: 4.7421e-04\n",
            "Epoch 17/20\n",
            "215/215 [==============================] - 1s 4ms/step - loss: 2.1150e-07 - val_loss: 2.1040e-04\n",
            "Epoch 18/20\n",
            "215/215 [==============================] - 1s 4ms/step - loss: 2.3093e-07 - val_loss: 3.5562e-04\n",
            "Epoch 19/20\n",
            "215/215 [==============================] - 1s 4ms/step - loss: 2.3613e-07 - val_loss: 3.6514e-04\n",
            "Epoch 20/20\n",
            "215/215 [==============================] - 1s 3ms/step - loss: 1.9493e-07 - val_loss: 3.2747e-04\n"
          ]
        }
      ]
    },
    {
      "cell_type": "code",
      "source": [
        "model.evaluate(X_test, y_test)"
      ],
      "metadata": {
        "colab": {
          "base_uri": "https://localhost:8080/"
        },
        "id": "rTOjOo05v5OV",
        "outputId": "8b76073a-9022-45b6-ec83-37616104c382"
      },
      "execution_count": 15,
      "outputs": [
        {
          "output_type": "stream",
          "name": "stdout",
          "text": [
            "115/115 [==============================] - 0s 2ms/step - loss: 3.2747e-04\n"
          ]
        },
        {
          "output_type": "execute_result",
          "data": {
            "text/plain": [
              "0.0003274727496318519"
            ]
          },
          "metadata": {},
          "execution_count": 15
        }
      ]
    },
    {
      "cell_type": "code",
      "source": [
        "y_pred = model.predict(X_test)\n",
        "plot_series(X_test[0, :, 0], y_test[0, 0], y_pred[0, 0])\n",
        "plt.show()"
      ],
      "metadata": {
        "colab": {
          "base_uri": "https://localhost:8080/",
          "height": 478
        },
        "id": "tFXu1DNdwOe6",
        "outputId": "fb8166f3-615a-4a53-a833-d1a822bc4a5e"
      },
      "execution_count": 16,
      "outputs": [
        {
          "output_type": "stream",
          "name": "stdout",
          "text": [
            "115/115 [==============================] - 0s 1ms/step\n"
          ]
        },
        {
          "output_type": "display_data",
          "data": {
            "text/plain": [
              "<Figure size 640x480 with 1 Axes>"
            ],
            "image/png": "[encoded data removed]"
          },
          "metadata": {}
        }
      ]
    },
    {
      "cell_type": "markdown",
      "source": [
        "Simple RNN"
      ],
      "metadata": {
        "id": "Wv3TGtIKzaW1"
      }
    },
    {
      "cell_type": "code",
      "source": [
        "np.random.seed(42)\n",
        "tf.random.set_seed(42)\n",
        "\n",
        "model = keras.models.Sequential([\n",
        "    keras.layers.SimpleRNN(1, input_shape=[None, 1])\n",
        "])\n",
        "\n",
        "optimizer = keras.optimizers.Adam(learning_rate=0.005)\n",
        "model.compile(loss=\"mse\", optimizer=optimizer)\n",
        "history = model.fit(X_train, y_train, epochs=20,\n",
        "                    validation_data=(X_test, y_test))"
      ],
      "metadata": {
        "colab": {
          "base_uri": "https://localhost:8080/"
        },
        "id": "c6D2tR0OxNw-",
        "outputId": "78fb3fbc-3add-4509-ad0b-1755a207ba7c"
      },
      "execution_count": 17,
      "outputs": [
        {
          "output_type": "stream",
          "name": "stdout",
          "text": [
            "Epoch 1/20\n",
            "215/215 [==============================] - 18s 78ms/step - loss: 7.2355e-04 - val_loss: 0.0439\n",
            "Epoch 2/20\n",
            "215/215 [==============================] - 16s 72ms/step - loss: 1.2205e-06 - val_loss: 0.0254\n",
            "Epoch 3/20\n",
            "215/215 [==============================] - 16s 73ms/step - loss: 3.1645e-07 - val_loss: 0.0252\n",
            "Epoch 4/20\n",
            "215/215 [==============================] - 16s 76ms/step - loss: 3.2238e-07 - val_loss: 0.0252\n",
            "Epoch 5/20\n",
            "215/215 [==============================] - 16s 75ms/step - loss: 3.2711e-07 - val_loss: 0.0250\n",
            "Epoch 6/20\n",
            "215/215 [==============================] - 16s 75ms/step - loss: 3.3142e-07 - val_loss: 0.0253\n",
            "Epoch 7/20\n",
            "215/215 [==============================] - 16s 75ms/step - loss: 3.3029e-07 - val_loss: 0.0251\n",
            "Epoch 8/20\n",
            "215/215 [==============================] - 16s 75ms/step - loss: 3.7129e-07 - val_loss: 0.0250\n",
            "Epoch 9/20\n",
            "215/215 [==============================] - 16s 72ms/step - loss: 3.4578e-07 - val_loss: 0.0249\n",
            "Epoch 10/20\n",
            "215/215 [==============================] - 17s 77ms/step - loss: 3.5626e-07 - val_loss: 0.0255\n",
            "Epoch 11/20\n",
            "215/215 [==============================] - 17s 78ms/step - loss: 3.4027e-07 - val_loss: 0.0241\n",
            "Epoch 12/20\n",
            "215/215 [==============================] - 16s 72ms/step - loss: 3.7789e-07 - val_loss: 0.0245\n",
            "Epoch 13/20\n",
            "215/215 [==============================] - 16s 73ms/step - loss: 3.5617e-07 - val_loss: 0.0242\n",
            "Epoch 14/20\n",
            "215/215 [==============================] - 15s 72ms/step - loss: 4.0637e-07 - val_loss: 0.0246\n",
            "Epoch 15/20\n",
            "215/215 [==============================] - 17s 78ms/step - loss: 4.4099e-07 - val_loss: 0.0251\n",
            "Epoch 16/20\n",
            "215/215 [==============================] - 16s 73ms/step - loss: 3.7071e-07 - val_loss: 0.0242\n",
            "Epoch 17/20\n",
            "215/215 [==============================] - 16s 73ms/step - loss: 4.2191e-07 - val_loss: 0.0251\n",
            "Epoch 18/20\n",
            "215/215 [==============================] - 16s 73ms/step - loss: 4.9596e-07 - val_loss: 0.0240\n",
            "Epoch 19/20\n",
            "215/215 [==============================] - 17s 78ms/step - loss: 6.1105e-07 - val_loss: 0.0253\n",
            "Epoch 20/20\n",
            "215/215 [==============================] - 16s 74ms/step - loss: 5.5772e-07 - val_loss: 0.0244\n"
          ]
        }
      ]
    },
    {
      "cell_type": "code",
      "source": [
        "model.evaluate(X_test, y_test)"
      ],
      "metadata": {
        "colab": {
          "base_uri": "https://localhost:8080/"
        },
        "id": "jrwJk9Z4zb0O",
        "outputId": "76bc8a9d-8b00-40d8-e120-d9c69427170e"
      },
      "execution_count": 18,
      "outputs": [
        {
          "output_type": "stream",
          "name": "stdout",
          "text": [
            "115/115 [==============================] - 1s 10ms/step - loss: 0.0244\n"
          ]
        },
        {
          "output_type": "execute_result",
          "data": {
            "text/plain": [
              "0.024419765919446945"
            ]
          },
          "metadata": {},
          "execution_count": 18
        }
      ]
    },
    {
      "cell_type": "code",
      "source": [
        "y_pred = model.predict(X_test)\n",
        "plot_series(X_test[0, :, 0], y_test[0, 0], y_pred[0, 0])\n",
        "plt.show()"
      ],
      "metadata": {
        "colab": {
          "base_uri": "https://localhost:8080/",
          "height": 478
        },
        "id": "mPQETqSH0l_S",
        "outputId": "84259eb6-82da-4459-b743-0a2c84fc2f9e"
      },
      "execution_count": 19,
      "outputs": [
        {
          "output_type": "stream",
          "name": "stdout",
          "text": [
            "115/115 [==============================] - 1s 10ms/step\n"
          ]
        },
        {
          "output_type": "display_data",
          "data": {
            "text/plain": [
              "<Figure size 640x480 with 1 Axes>"
            ],
            "image/png": "[encoded data removed]"
          },
          "metadata": {}
        }
      ]
    },
    {
      "cell_type": "markdown",
      "source": [
        "Deep RNNs"
      ],
      "metadata": {
        "id": "js54mao21NYh"
      }
    },
    {
      "cell_type": "code",
      "source": [
        "np.random.seed(42)\n",
        "tf.random.set_seed(42)\n",
        "\n",
        "model = keras.models.Sequential([\n",
        "    keras.layers.SimpleRNN(20, return_sequences=True, input_shape=[None, 1]),\n",
        "    keras.layers.SimpleRNN(20, return_sequences=True),\n",
        "    keras.layers.SimpleRNN(1)\n",
        "])\n",
        "\n",
        "optimizer = keras.optimizers.Adam(learning_rate=0.005)\n",
        "model.compile(loss=\"mse\", optimizer=optimizer)\n",
        "history = model.fit(X_train, y_train, epochs=20,\n",
        "                    validation_data=(X_test, y_test))"
      ],
      "metadata": {
        "colab": {
          "base_uri": "https://localhost:8080/"
        },
        "id": "niLezck30o0K",
        "outputId": "960c2631-1770-40bf-c70f-812dec5febc9"
      },
      "execution_count": 20,
      "outputs": [
        {
          "output_type": "stream",
          "name": "stdout",
          "text": [
            "Epoch 1/20\n",
            "215/215 [==============================] - 72s 314ms/step - loss: 0.0042 - val_loss: 0.1192\n",
            "Epoch 2/20\n",
            "215/215 [==============================] - 68s 316ms/step - loss: 5.3914e-06 - val_loss: 0.1188\n",
            "Epoch 3/20\n",
            "215/215 [==============================] - 65s 300ms/step - loss: 5.1163e-06 - val_loss: 0.1199\n",
            "Epoch 4/20\n",
            "215/215 [==============================] - 66s 309ms/step - loss: 5.2082e-06 - val_loss: 0.1215\n",
            "Epoch 5/20\n",
            "215/215 [==============================] - 69s 319ms/step - loss: 7.0051e-06 - val_loss: 0.1248\n",
            "Epoch 6/20\n",
            "215/215 [==============================] - 72s 336ms/step - loss: 6.8415e-06 - val_loss: 0.1274\n",
            "Epoch 7/20\n",
            "215/215 [==============================] - 68s 314ms/step - loss: 5.5268e-06 - val_loss: 0.1298\n",
            "Epoch 8/20\n",
            "215/215 [==============================] - 67s 311ms/step - loss: 3.9545e-06 - val_loss: 0.1312\n",
            "Epoch 9/20\n",
            "215/215 [==============================] - 66s 305ms/step - loss: 3.7633e-06 - val_loss: 0.1316\n",
            "Epoch 10/20\n",
            "215/215 [==============================] - 68s 317ms/step - loss: 2.9172e-06 - val_loss: 0.1315\n",
            "Epoch 11/20\n",
            "215/215 [==============================] - 67s 311ms/step - loss: 3.2704e-06 - val_loss: 0.1301\n",
            "Epoch 12/20\n",
            "215/215 [==============================] - 65s 303ms/step - loss: 3.3324e-06 - val_loss: 0.1303\n",
            "Epoch 13/20\n",
            "215/215 [==============================] - 66s 305ms/step - loss: 1.2820e-05 - val_loss: 0.1203\n",
            "Epoch 14/20\n",
            "215/215 [==============================] - 65s 303ms/step - loss: 4.7278e-06 - val_loss: 0.1172\n",
            "Epoch 15/20\n",
            "215/215 [==============================] - 67s 311ms/step - loss: 3.5493e-06 - val_loss: 0.1162\n",
            "Epoch 16/20\n",
            "215/215 [==============================] - 64s 297ms/step - loss: 4.3822e-06 - val_loss: 0.1113\n",
            "Epoch 17/20\n",
            "215/215 [==============================] - 66s 307ms/step - loss: 8.7530e-06 - val_loss: 0.1103\n",
            "Epoch 18/20\n",
            "215/215 [==============================] - 72s 336ms/step - loss: 1.1477e-05 - val_loss: 0.1163\n",
            "Epoch 19/20\n",
            "215/215 [==============================] - 67s 309ms/step - loss: 1.3954e-05 - val_loss: 0.1051\n",
            "Epoch 20/20\n",
            "215/215 [==============================] - 67s 311ms/step - loss: 3.8774e-06 - val_loss: 0.1035\n"
          ]
        }
      ]
    },
    {
      "cell_type": "code",
      "source": [
        "model.evaluate(X_test, y_test)"
      ],
      "metadata": {
        "colab": {
          "base_uri": "https://localhost:8080/"
        },
        "id": "SX5IGoW41UC1",
        "outputId": "0b4163b6-2224-486d-856c-4684e911f565"
      },
      "execution_count": 21,
      "outputs": [
        {
          "output_type": "stream",
          "name": "stdout",
          "text": [
            "115/115 [==============================] - 4s 33ms/step - loss: 0.1035\n"
          ]
        },
        {
          "output_type": "execute_result",
          "data": {
            "text/plain": [
              "0.10354696214199066"
            ]
          },
          "metadata": {},
          "execution_count": 21
        }
      ]
    },
    {
      "cell_type": "code",
      "source": [
        "y_pred = model.predict(X_test)\n",
        "plot_series(X_test[0, :, 0], y_test[0, 0], y_pred[0, 0])\n",
        "plt.show()"
      ],
      "metadata": {
        "colab": {
          "base_uri": "https://localhost:8080/",
          "height": 478
        },
        "id": "ByqCSEIM1WOW",
        "outputId": "04cd52f7-7b67-4ce1-e240-e619bd24180b"
      },
      "execution_count": 22,
      "outputs": [
        {
          "output_type": "stream",
          "name": "stdout",
          "text": [
            "115/115 [==============================] - 3s 25ms/step\n"
          ]
        },
        {
          "output_type": "display_data",
          "data": {
            "text/plain": [
              "<Figure size 640x480 with 1 Axes>"
            ],
            "image/png": "[encoded data removed]"
          },
          "metadata": {}
        }
      ]
    },
    {
      "cell_type": "markdown",
      "source": [
        "Forecasting Several Steps Ahead"
      ],
      "metadata": {
        "id": "IlMJQrbb1nk0"
      }
    },
    {
      "cell_type": "code",
      "source": [
        "X = X_train[-1:,:,:]\n",
        "Y = y_test[:10]"
      ],
      "metadata": {
        "id": "KY3BzHyOJFE8"
      },
      "execution_count": 23,
      "outputs": []
    },
    {
      "cell_type": "code",
      "source": [],
      "metadata": {
        "id": "vFwhR0HWF2s5"
      },
      "execution_count": 23,
      "outputs": []
    },
    {
      "cell_type": "code",
      "source": [
        "Y = Y.reshape(1,10,1)\n",
        "Y.shape"
      ],
      "metadata": {
        "id": "G1RczliGJFBf",
        "colab": {
          "base_uri": "https://localhost:8080/"
        },
        "outputId": "6e3fd013-86bb-42ba-9eea-93afba900dfb"
      },
      "execution_count": 24,
      "outputs": [
        {
          "output_type": "execute_result",
          "data": {
            "text/plain": [
              "(1, 10, 1)"
            ]
          },
          "metadata": {},
          "execution_count": 24
        }
      ]
    },
    {
      "cell_type": "code",
      "source": [
        "for step_ahead in range(10):\n",
        "    y_pred_one = model.predict(X[:, step_ahead:])[:, np.newaxis, :]\n",
        "    X = np.concatenate([X, y_pred_one], axis=1)\n",
        "\n",
        "Y_pred = X[:, n_steps:]"
      ],
      "metadata": {
        "colab": {
          "base_uri": "https://localhost:8080/"
        },
        "id": "LZv-LhBAJE90",
        "outputId": "47695162-235c-4a2d-da1d-9915c162a497"
      },
      "execution_count": 25,
      "outputs": [
        {
          "output_type": "stream",
          "name": "stdout",
          "text": [
            "1/1 [==============================] - 0s 42ms/step\n",
            "1/1 [==============================] - 0s 41ms/step\n",
            "1/1 [==============================] - 0s 44ms/step\n",
            "1/1 [==============================] - 0s 38ms/step\n",
            "1/1 [==============================] - 0s 42ms/step\n",
            "1/1 [==============================] - 0s 50ms/step\n",
            "1/1 [==============================] - 0s 40ms/step\n",
            "1/1 [==============================] - 0s 40ms/step\n",
            "1/1 [==============================] - 0s 39ms/step\n",
            "1/1 [==============================] - 0s 40ms/step\n"
          ]
        }
      ]
    },
    {
      "cell_type": "code",
      "source": [
        "np.mean(keras.metrics.mean_squared_error(Y, Y_pred))"
      ],
      "metadata": {
        "colab": {
          "base_uri": "https://localhost:8080/"
        },
        "id": "0VQzF5ZzIPi3",
        "outputId": "246a4f13-6d1b-46a8-f2db-8a0954487f01"
      },
      "execution_count": 26,
      "outputs": [
        {
          "output_type": "execute_result",
          "data": {
            "text/plain": [
              "0.00013623960631460597"
            ]
          },
          "metadata": {},
          "execution_count": 26
        }
      ]
    },
    {
      "cell_type": "code",
      "source": [
        "def plot_multiple_forecasts(X, Y, Y_pred):\n",
        "    n_steps = X.shape[1]\n",
        "    ahead = Y.shape[1]\n",
        "    plot_series(X[0, :, 0])\n",
        "    plt.plot(np.arange(n_steps, n_steps + ahead), Y[0, :, 0], \"bo-\", label=\"Actual\")\n",
        "    plt.plot(np.arange(n_steps, n_steps + ahead), Y_pred[0, :, 0], \"rx-\", label=\"Forecast\", markersize=10)\n",
        "    plt.axis([0, n_steps + ahead, -1, 1])\n",
        "    plt.legend(fontsize=14)\n",
        "\n",
        "plot_multiple_forecasts(X, Y, Y_pred)\n",
        "\n",
        "plt.show()"
      ],
      "metadata": {
        "colab": {
          "base_uri": "https://localhost:8080/",
          "height": 461
        },
        "id": "NI1w2V8mIRUm",
        "outputId": "8f317a02-e093-4358-f8f9-a8d38ca0eb5b"
      },
      "execution_count": 27,
      "outputs": [
        {
          "output_type": "display_data",
          "data": {
            "text/plain": [
              "<Figure size 640x480 with 1 Axes>"
            ],
            "image/png": "[encoded data removed]"
          },
          "metadata": {}
        }
      ]
    },
    {
      "cell_type": "markdown",
      "source": [],
      "metadata": {
        "id": "5tur3_sWIjna"
      }
    },
    {
      "cell_type": "code",
      "source": [
        "X.shape"
      ],
      "metadata": {
        "colab": {
          "base_uri": "https://localhost:8080/"
        },
        "id": "q4qnuUE-bBlm",
        "outputId": "a278b9ef-d373-4fed-db01-e4a2b917fee3"
      },
      "execution_count": 28,
      "outputs": [
        {
          "output_type": "execute_result",
          "data": {
            "text/plain": [
              "(1, 110, 1)"
            ]
          },
          "metadata": {},
          "execution_count": 28
        }
      ]
    },
    {
      "cell_type": "code",
      "source": [
        "np.random.seed(42)\n",
        "tf.random.set_seed(42)\n",
        "\n",
        "model = keras.models.Sequential([\n",
        "    keras.layers.Flatten(input_shape=[100, 1]),\n",
        "    keras.layers.Dense(10)\n",
        "])\n",
        "\n",
        "model.compile(loss=\"mse\", optimizer=\"adam\")\n",
        "history = model.fit(X_train, y_train, epochs=20,\n",
        "                    validation_data=(X_test, y_test))"
      ],
      "metadata": {
        "id": "7AR_bmG7KhE5",
        "colab": {
          "base_uri": "https://localhost:8080/"
        },
        "outputId": "941122d1-b8f5-46f6-fd11-e3f8bf1b594d"
      },
      "execution_count": 29,
      "outputs": [
        {
          "output_type": "stream",
          "name": "stdout",
          "text": [
            "Epoch 1/20\n",
            "215/215 [==============================] - 2s 4ms/step - loss: 7.1529e-06 - val_loss: 0.0030\n",
            "Epoch 2/20\n",
            "215/215 [==============================] - 1s 3ms/step - loss: 1.8464e-06 - val_loss: 0.0015\n",
            "Epoch 3/20\n",
            "215/215 [==============================] - 1s 3ms/step - loss: 1.1131e-06 - val_loss: 9.3458e-04\n",
            "Epoch 4/20\n",
            "215/215 [==============================] - 1s 4ms/step - loss: 8.1641e-07 - val_loss: 0.0011\n",
            "Epoch 5/20\n",
            "215/215 [==============================] - 1s 3ms/step - loss: 6.1385e-07 - val_loss: 6.8973e-04\n",
            "Epoch 6/20\n",
            "215/215 [==============================] - 1s 4ms/step - loss: 5.2763e-07 - val_loss: 5.6487e-04\n",
            "Epoch 7/20\n",
            "215/215 [==============================] - 1s 5ms/step - loss: 4.4854e-07 - val_loss: 5.8670e-04\n",
            "Epoch 8/20\n",
            "215/215 [==============================] - 1s 5ms/step - loss: 3.9300e-07 - val_loss: 4.3346e-04\n",
            "Epoch 9/20\n",
            "215/215 [==============================] - 1s 4ms/step - loss: 3.6470e-07 - val_loss: 6.1866e-04\n",
            "Epoch 10/20\n",
            "215/215 [==============================] - 1s 3ms/step - loss: 3.5569e-07 - val_loss: 3.9480e-04\n",
            "Epoch 11/20\n",
            "215/215 [==============================] - 1s 4ms/step - loss: 3.3910e-07 - val_loss: 4.6963e-04\n",
            "Epoch 12/20\n",
            "215/215 [==============================] - 1s 5ms/step - loss: 3.1080e-07 - val_loss: 3.9862e-04\n",
            "Epoch 13/20\n",
            "215/215 [==============================] - 1s 5ms/step - loss: 2.8438e-07 - val_loss: 4.5431e-04\n",
            "Epoch 14/20\n",
            "215/215 [==============================] - 1s 5ms/step - loss: 2.8337e-07 - val_loss: 3.0334e-04\n",
            "Epoch 15/20\n",
            "215/215 [==============================] - 1s 3ms/step - loss: 2.9022e-07 - val_loss: 3.7659e-04\n",
            "Epoch 16/20\n",
            "215/215 [==============================] - 1s 3ms/step - loss: 2.7644e-07 - val_loss: 3.6813e-04\n",
            "Epoch 17/20\n",
            "215/215 [==============================] - 1s 4ms/step - loss: 2.4330e-07 - val_loss: 3.2476e-04\n",
            "Epoch 18/20\n",
            "215/215 [==============================] - 1s 4ms/step - loss: 2.2943e-07 - val_loss: 2.8850e-04\n",
            "Epoch 19/20\n",
            "215/215 [==============================] - 1s 3ms/step - loss: 2.2259e-07 - val_loss: 3.2680e-04\n",
            "Epoch 20/20\n",
            "215/215 [==============================] - 1s 3ms/step - loss: 2.2514e-07 - val_loss: 2.4070e-04\n"
          ]
        }
      ]
    },
    {
      "cell_type": "code",
      "source": [],
      "metadata": {
        "id": "fAo-gAZxKhBd"
      },
      "execution_count": 29,
      "outputs": []
    },
    {
      "cell_type": "code",
      "source": [
        "y_train"
      ],
      "metadata": {
        "id": "LKf62rEWI8xF",
        "colab": {
          "base_uri": "https://localhost:8080/"
        },
        "outputId": "029f9ded-6d8b-45e4-d70d-763b2e53c4c2"
      },
      "execution_count": 37,
      "outputs": [
        {
          "output_type": "execute_result",
          "data": {
            "text/plain": [
              "array([[0.00038337],\n",
              "       [0.00038909],\n",
              "       [0.00037479],\n",
              "       ...,\n",
              "       [0.02981182],\n",
              "       [0.02969829],\n",
              "       [0.03079324]])"
            ]
          },
          "metadata": {},
          "execution_count": 37
        }
      ]
    },
    {
      "cell_type": "code",
      "source": [
        "Y = y_train.copy()"
      ],
      "metadata": {
        "id": "I8_BWU-OwAGc"
      },
      "execution_count": 49,
      "outputs": []
    },
    {
      "cell_type": "code",
      "source": [
        "Y = Y.squeeze()"
      ],
      "metadata": {
        "id": "p2QUmWBLwNKl"
      },
      "execution_count": 50,
      "outputs": []
    },
    {
      "cell_type": "code",
      "source": [
        "Y = Y.tolist()"
      ],
      "metadata": {
        "id": "ky37nZ7kxCFQ"
      },
      "execution_count": 52,
      "outputs": []
    },
    {
      "cell_type": "code",
      "source": [
        "Y.extend(y_test[:10].squeeze().tolist())"
      ],
      "metadata": {
        "id": "N10Noo701C4b"
      },
      "execution_count": 53,
      "outputs": []
    },
    {
      "cell_type": "code",
      "source": [
        "dataY = []\n",
        "for i in range(len(Y) - 10):\n",
        "  dataY.append(np.array(Y[i:i+10]))"
      ],
      "metadata": {
        "id": "2Kppv5vDxELw"
      },
      "execution_count": 56,
      "outputs": []
    },
    {
      "cell_type": "code",
      "source": [
        "dataY = np.array(dataY)\n",
        "dataY.shape"
      ],
      "metadata": {
        "colab": {
          "base_uri": "https://localhost:8080/"
        },
        "id": "dcko6ll-0x0v",
        "outputId": "8fedc55f-ecdf-42e6-c86c-00cf35f37ac7"
      },
      "execution_count": 59,
      "outputs": [
        {
          "output_type": "execute_result",
          "data": {
            "text/plain": [
              "(6879, 10)"
            ]
          },
          "metadata": {},
          "execution_count": 59
        }
      ]
    },
    {
      "cell_type": "code",
      "source": [
        "np.random.seed(42)\n",
        "tf.random.set_seed(42)\n",
        "\n",
        "model = keras.models.Sequential([\n",
        "    keras.layers.Flatten(input_shape=[100, 1]),\n",
        "    keras.layers.Dense(10)\n",
        "])\n",
        "\n",
        "model.compile(loss=\"mse\", optimizer=\"adam\")\n",
        "history = model.fit(X_train, dataY, epochs=20)"
      ],
      "metadata": {
        "colab": {
          "base_uri": "https://localhost:8080/"
        },
        "id": "YyMBrRme07Rw",
        "outputId": "50d37ee4-c4d2-40af-e504-58ed477eb22a"
      },
      "execution_count": 61,
      "outputs": [
        {
          "output_type": "stream",
          "name": "stdout",
          "text": [
            "Epoch 1/20\n",
            "215/215 [==============================] - 5s 3ms/step - loss: 1.1232e-05\n",
            "Epoch 2/20\n",
            "215/215 [==============================] - 1s 3ms/step - loss: 1.5862e-06\n",
            "Epoch 3/20\n",
            "215/215 [==============================] - 1s 4ms/step - loss: 1.2166e-06\n",
            "Epoch 4/20\n",
            "215/215 [==============================] - 1s 4ms/step - loss: 1.0232e-06\n",
            "Epoch 5/20\n",
            "215/215 [==============================] - 1s 4ms/step - loss: 9.0945e-07\n",
            "Epoch 6/20\n",
            "215/215 [==============================] - 1s 3ms/step - loss: 8.4529e-07\n",
            "Epoch 7/20\n",
            "215/215 [==============================] - 1s 3ms/step - loss: 7.8604e-07\n",
            "Epoch 8/20\n",
            "215/215 [==============================] - 1s 3ms/step - loss: 7.5543e-07\n",
            "Epoch 9/20\n",
            "215/215 [==============================] - 1s 3ms/step - loss: 7.1015e-07\n",
            "Epoch 10/20\n",
            "215/215 [==============================] - 1s 3ms/step - loss: 7.0030e-07\n",
            "Epoch 11/20\n",
            "215/215 [==============================] - 1s 3ms/step - loss: 6.9980e-07\n",
            "Epoch 12/20\n",
            "215/215 [==============================] - 1s 3ms/step - loss: 6.7909e-07\n",
            "Epoch 13/20\n",
            "215/215 [==============================] - 1s 3ms/step - loss: 6.3243e-07\n",
            "Epoch 14/20\n",
            "215/215 [==============================] - 1s 3ms/step - loss: 6.4452e-07\n",
            "Epoch 15/20\n",
            "215/215 [==============================] - 1s 3ms/step - loss: 6.2102e-07\n",
            "Epoch 16/20\n",
            "215/215 [==============================] - 1s 3ms/step - loss: 6.1648e-07\n",
            "Epoch 17/20\n",
            "215/215 [==============================] - 1s 3ms/step - loss: 5.8031e-07\n",
            "Epoch 18/20\n",
            "215/215 [==============================] - 1s 3ms/step - loss: 5.8849e-07\n",
            "Epoch 19/20\n",
            "215/215 [==============================] - 1s 3ms/step - loss: 6.3208e-07\n",
            "Epoch 20/20\n",
            "215/215 [==============================] - 1s 3ms/step - loss: 5.5828e-07\n"
          ]
        }
      ]
    },
    {
      "cell_type": "code",
      "source": [
        "Y_pred = model.predict(X_train[-1:])[..., np.newaxis]"
      ],
      "metadata": {
        "colab": {
          "base_uri": "https://localhost:8080/"
        },
        "id": "rYJ2mieA1p_c",
        "outputId": "436d4ebf-acc3-409f-f376-00f164115fea"
      },
      "execution_count": 68,
      "outputs": [
        {
          "output_type": "stream",
          "name": "stdout",
          "text": [
            "1/1 [==============================] - 0s 119ms/step\n"
          ]
        }
      ]
    },
    {
      "cell_type": "code",
      "source": [
        "y_test[:10]"
      ],
      "metadata": {
        "colab": {
          "base_uri": "https://localhost:8080/"
        },
        "id": "QAn32laX17fU",
        "outputId": "f49b1420-8f3e-4c9f-bbce-6b55642ebf7d"
      },
      "execution_count": 70,
      "outputs": [
        {
          "output_type": "execute_result",
          "data": {
            "text/plain": [
              "array([[0.01706606],\n",
              "       [0.01678042],\n",
              "       [0.01641238],\n",
              "       [0.01672183],\n",
              "       [0.01633365],\n",
              "       [0.0159821 ],\n",
              "       [0.01580815],\n",
              "       [0.01537236],\n",
              "       [0.01501531],\n",
              "       [0.01482305]])"
            ]
          },
          "metadata": {},
          "execution_count": 70
        }
      ]
    },
    {
      "cell_type": "code",
      "source": [
        "Y_pred"
      ],
      "metadata": {
        "colab": {
          "base_uri": "https://localhost:8080/"
        },
        "id": "LFK7iAgM1_RM",
        "outputId": "bffc066d-c924-4fb5-b715-da2da21e2d35"
      },
      "execution_count": 72,
      "outputs": [
        {
          "output_type": "execute_result",
          "data": {
            "text/plain": [
              "array([[[0.02783754],\n",
              "        [0.02907717],\n",
              "        [0.02952878],\n",
              "        [0.02893577],\n",
              "        [0.02674415],\n",
              "        [0.02892933],\n",
              "        [0.02949576],\n",
              "        [0.02871871],\n",
              "        [0.02942772],\n",
              "        [0.02718883]]], dtype=float32)"
            ]
          },
          "metadata": {},
          "execution_count": 72
        }
      ]
    },
    {
      "cell_type": "code",
      "source": [
        "Y_pred = model.predict(X_test[0].reshape(1,100,1))[..., np.newaxis]"
      ],
      "metadata": {
        "colab": {
          "base_uri": "https://localhost:8080/"
        },
        "id": "0q-zGHJm2URs",
        "outputId": "cb7b0d61-f9dc-48d5-89b6-20636ce40c2d"
      },
      "execution_count": 79,
      "outputs": [
        {
          "output_type": "stream",
          "name": "stdout",
          "text": [
            "1/1 [==============================] - 0s 29ms/step\n"
          ]
        }
      ]
    },
    {
      "cell_type": "code",
      "source": [],
      "metadata": {
        "id": "o8JuBGop6xwF"
      },
      "execution_count": null,
      "outputs": []
    }
  ]
}